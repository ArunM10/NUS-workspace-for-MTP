{
 "cells": [
  {
   "cell_type": "code",
   "execution_count": 1,
   "metadata": {},
   "outputs": [],
   "source": [
    "import pennylane as qml\n",
    "from matplotlib import pyplot as plt\n",
    "import numpy as np\n",
    "import scipy\n",
    "import networkx as nx\n",
    "import copy"
   ]
  },
  {
   "cell_type": "code",
   "execution_count": 2,
   "metadata": {},
   "outputs": [],
   "source": [
    "qubit_number = 4\n",
    "qubits = range(qubit_number)"
   ]
  },
  {
   "cell_type": "code",
   "execution_count": 3,
   "metadata": {},
   "outputs": [
    {
     "data": {
      "image/png": "[encoded data removed]",
      "text/plain": [
       "<Figure size 432x288 with 1 Axes>"
      ]
     },
     "metadata": {},
     "output_type": "display_data"
    }
   ],
   "source": [
    "ising_graph=nx.cycle_graph(qubit_number)\n",
    "nx.draw(ising_graph,with_labels=True)"
   ]
  },
  {
   "cell_type": "code",
   "execution_count": 4,
   "metadata": {},
   "outputs": [
    {
     "name": "stdout",
     "output_type": "stream",
     "text": [
      "edges [(0, 1), (0, 3), (1, 2), (2, 3)]\n",
      "nodes [0, 1, 2, 3]\n"
     ]
    },
    {
     "data": {
      "text/plain": [
       "array([0, 1, 2, 3])"
      ]
     },
     "execution_count": 4,
     "metadata": {},
     "output_type": "execute_result"
    }
   ],
   "source": [
    "print(\"edges\",ising_graph.edges)\n",
    "print(\"nodes\",ising_graph.nodes)\n",
    "Nodes=np.array(ising_graph.nodes)\n",
    "Nodes"
   ]
  },
  {
   "cell_type": "code",
   "execution_count": 5,
   "metadata": {},
   "outputs": [
    {
     "name": "stdout",
     "output_type": "stream",
     "text": [
      "[[0 1 0 1]\n",
      " [1 0 1 0]\n",
      " [0 1 0 1]\n",
      " [1 0 1 0]]\n"
     ]
    }
   ],
   "source": [
    "A=np.array(nx.adjacency_matrix(ising_graph).todense())\n",
    "print(A)"
   ]
  },
  {
   "cell_type": "code",
   "execution_count": 6,
   "metadata": {},
   "outputs": [],
   "source": [
    "# Quantum data: set of training and test set of input and output quantum states"
   ]
  },
  {
   "cell_type": "code",
   "execution_count": 7,
   "metadata": {},
   "outputs": [],
   "source": [
    "target_edge_weights = [0.56, 1.24, 1.67, -0.79]\n",
    "target_node_weights = [-1.44, -1.43, 1.18, -0.93]"
   ]
  },
  {
   "cell_type": "code",
   "execution_count": 8,
   "metadata": {},
   "outputs": [
    {
     "data": {
      "text/plain": [
       "'\\nThe collection of quantum data needed to run the QGRNN has two components: \\n\\n(i) copies of a low-energy state, and\\n(ii) a collection of time-evolved states\\n\\n'"
      ]
     },
     "execution_count": 8,
     "metadata": {},
     "output_type": "execute_result"
    }
   ],
   "source": [
    "'''\n",
    "The collection of quantum data needed to run the QGRNN has two components: \n",
    "\n",
    "(i) copies of a low-energy state, and\n",
    "(ii) a collection of time-evolved states\n",
    "\n",
    "'''"
   ]
  },
  {
   "cell_type": "code",
   "execution_count": 9,
   "metadata": {},
   "outputs": [],
   "source": [
    "low_energy_state = [ (-0.054661080280306085 + 0.016713907320174026j),\n",
    "    (0.12290003656489545 - 0.03758500591109822j),\n",
    "    (0.3649337966440005 - 0.11158863596657455j),\n",
    "    (-0.8205175732627094 + 0.25093231967092877j),\n",
    "    (0.010369790825776609 - 0.0031706387262686003j),\n",
    "    (-0.02331544978544721 + 0.007129899300113728j),\n",
    "    (-0.06923183949694546 + 0.0211684344103713j),\n",
    "    (0.15566094863283836 - 0.04760201916285508j),\n",
    "    (0.014520590919500158 - 0.004441887836078486j),\n",
    "    (-0.032648113364535575 + 0.009988590222879195j),\n",
    "    (-0.09694382811137187 + 0.02965579457620536j),\n",
    "    (0.21796861485652747 - 0.06668776658411019j),\n",
    "    (-0.0027547112135013247 + 0.0008426289322652901j),\n",
    "    (0.006193695872468649 - 0.0018948418969390599j),\n",
    "    (0.018391279795405405 - 0.005625722994009138j),\n",
    "    (-0.041350974715649635 + 0.012650711602265649j),]"
   ]
  },
  {
   "cell_type": "code",
   "execution_count": 10,
   "metadata": {},
   "outputs": [
    {
     "name": "stdout",
     "output_type": "stream",
     "text": [
      "(70-8j)\n",
      "(70-8j)\n"
     ]
    }
   ],
   "source": [
    "a = np.array([1+2j,3+4j])\n",
    "b = np.array([5+6j,7+8j])\n",
    "\n",
    "print(np.dot(np.transpose(np.conj(a)),b))\n",
    "# np.dot doesn't use complex conjugate of 'a'\n",
    "print(np.vdot(a,b))"
   ]
  },
  {
   "cell_type": "code",
   "execution_count": 11,
   "metadata": {},
   "outputs": [],
   "source": [
    "# creating the hamiltonian matrix in my own way\n",
    "\n",
    "# use it for further works instead of the pennylane's one\n",
    "\n",
    "def H_matrix(graph,edge_weights,node_wieghts,no_of_qubits):\n",
    "    # edge_weights= $\\theta_1$ parameters for interaction terms\n",
    "    # node_weights= $\\theta_2$ parameters for single qubit terms\n",
    "    \n",
    "    full_matrix=np.zeros((2**no_of_qubits,2**no_of_qubits))\n",
    "    \n",
    "    # creating the two qubit interation terms:\n",
    "    for i,edge in enumerate(graph.edges):\n",
    "        \n",
    "        zz_int=1\n",
    "        \n",
    "        for qubit in range(no_of_qubits):\n",
    "            \n",
    "            if qubit in edge:\n",
    "                # for only ZZ interaction but it can be generalized to XX/YY interaction\n",
    "                zz_int=np.kron(zz_int,qml.PauliZ.matrix)\n",
    "                \n",
    "            else:\n",
    "                zz_int=np.kron(zz_int,np.identity(2))\n",
    "                \n",
    "        full_matrix+=edge_weights[i]*zz_int\n",
    "        \n",
    "        \n",
    "    # store the nodes in an array \"Nodes\"  \n",
    "    Nodes=np.array(ising_graph.nodes)\n",
    "    # creating individual qubit energy terms:\n",
    "    for node in Nodes:\n",
    "        \n",
    "        z_int = x_int = 1\n",
    "        \n",
    "        for qubit in range(no_of_qubits):\n",
    "            \n",
    "            \n",
    "            if node==qubit:\n",
    "                \n",
    "                z_int=np.kron(z_int,qml.PauliZ.matrix)\n",
    "                x_int=np.kron(x_int, qml.PauliX.matrix)\n",
    "            else:\n",
    "                z_int=np.kron(z_int,np.identity(2))\n",
    "                x_int=np.kron(x_int,np.identity(2))\n",
    "      \n",
    "        full_matrix+=node_wieghts[node]*z_int+x_int\n",
    "    return full_matrix"
   ]
  },
  {
   "cell_type": "code",
   "execution_count": 12,
   "metadata": {},
   "outputs": [
    {
     "data": {
      "image/png": "[encoded data removed]",
      "text/plain": [
       "<Figure size 288x288 with 1 Axes>"
      ]
     },
     "metadata": {
      "needs_background": "light"
     },
     "output_type": "display_data"
    }
   ],
   "source": [
    "target_weights = [0.56, 1.24, 1.67, -0.79]\n",
    "target_bias = [-1.44, -1.43, 1.18, -0.93]\n",
    "H=H_matrix(ising_graph,target_weights,target_bias,qubit_number)\n",
    "plt.matshow(H, cmap=\"YlGn\")\n",
    "plt.show()"
   ]
  },
  {
   "cell_type": "code",
   "execution_count": 13,
   "metadata": {},
   "outputs": [
    {
     "name": "stdout",
     "output_type": "stream",
     "text": [
      "Ground state energy:-7.244508985189116\n"
     ]
    }
   ],
   "source": [
    "result1=np.vdot(low_energy_state,np.dot(np.transpose(np.conj(H)),low_energy_state))\n",
    "\n",
    "Ground_state_energy=np.real_if_close(result1)\n",
    "\n",
    "print(f\"Ground state energy:{Ground_state_energy}\")"
   ]
  },
  {
   "cell_type": "code",
   "execution_count": 14,
   "metadata": {},
   "outputs": [
    {
     "name": "stdout",
     "output_type": "stream",
     "text": [
      "Minimum eigen energy:-7.33068966129124\n"
     ]
    }
   ],
   "source": [
    "print(f\"Minimum eigen energy:{np.real_if_close(min(np.linalg.eig(H)[0]))}\")"
   ]
  },
  {
   "cell_type": "code",
   "execution_count": 15,
   "metadata": {},
   "outputs": [],
   "source": [
    "# the time evolution operator which will help to evolve the ground state\n",
    "\n",
    "def unitary_evolution(hamiltonian,qubits,time):\n",
    "    # first the hamiltonian should be created with a set of parameters then we have to call during optimization\n",
    "    U=scipy.linalg.expm(-1j*hamiltonian*time)\n",
    "    '''\n",
    "     note that here we are calculating the exact exponentiation of hamiltonian and this is not the simulated unitary using \n",
    "     trotterizationthe, reason of doing that is to define the cost, later, as fidelity between actual evolved and simulated \n",
    "     evoled state\n",
    "    '''\n",
    "    qml.QubitUnitary(U,wires=qubits)"
   ]
  },
  {
   "cell_type": "code",
   "execution_count": 16,
   "metadata": {},
   "outputs": [],
   "source": [
    "# defining QGRNN layer to simulate the exact exponential \"unitary_evolution()\" using trotterization\n",
    "\n",
    "def QGRNN_layer(edge_weights,node_weights,graph,qubits,delta):\n",
    "    '''\n",
    "    here we can define the z⊗z from scratch like toffoli, fredkin case but we will directly calculate that from inbuild func.\n",
    "    Parameters should be divided by n, where n=trotter steps\n",
    "    '''\n",
    "    # defining the layer for two qubit z⊗z interactions\n",
    "    for i,edge in enumerate(graph.edges):\n",
    "        qml.MultiRZ(2*edge_weights[i]*delta,wires=(edge[0],edge[1]))    # it create z⊗z interactions for all the edges\n",
    "        \n",
    "        # to know why the actual parameters are multiplied by 2, see the notes for qml.MultiRZ() in pennylane and see the form\n",
    "        \n",
    "    # defining the layer for single qubit energy\n",
    "    for i,node in enumerate(graph.nodes):\n",
    "        qml.RZ(2*node_weights[i]*delta,wires=node)\n",
    "        qml.RX(2*delta,wires=node)"
   ]
  },
  {
   "cell_type": "code",
   "execution_count": 17,
   "metadata": {},
   "outputs": [
    {
     "name": "stdout",
     "output_type": "stream",
     "text": [
      "0 1\n",
      "0 3\n",
      "1 2\n",
      "2 3\n"
     ]
    }
   ],
   "source": [
    "for edge in ising_graph.edges:\n",
    "    print(edge[0],edge[1])"
   ]
  },
  {
   "cell_type": "code",
   "execution_count": 18,
   "metadata": {},
   "outputs": [],
   "source": [
    "def Swap_test(control_wire,target_register1,target_register2):\n",
    "    \n",
    "    qml.Hadamard(wires=control_wire)\n",
    "    for wire1,wire2 in zip(target_register1,target_register2):\n",
    "        qml.CSWAP(wires=(control_wire,wire1,wire2))\n",
    "    qml.Hadamard(wires=control_wire)\n"
   ]
  },
  {
   "cell_type": "code",
   "execution_count": 19,
   "metadata": {},
   "outputs": [
    {
     "name": "stdout",
     "output_type": "stream",
     "text": [
      "(1, 2, 3, 4, 5, 6, 7, 8)\n"
     ]
    }
   ],
   "source": [
    "reg1=tuple(range(1,qubit_number+1))\n",
    "reg2=tuple(range(1+qubit_number,2*qubit_number+1))\n",
    "print(reg1+reg2)\n",
    "\n",
    "control=0 # the control qubit in swap operation"
   ]
  },
  {
   "cell_type": "code",
   "execution_count": 20,
   "metadata": {},
   "outputs": [
    {
     "name": "stdout",
     "output_type": "stream",
     "text": [
      "edges-> [(5, 6), (5, 7), (5, 8), (6, 7), (6, 8), (7, 8)]\n"
     ]
    },
    {
     "data": {
      "image/png": "[encoded data removed]",
      "text/plain": [
       "<Figure size 432x288 with 1 Axes>"
      ]
     },
     "metadata": {},
     "output_type": "display_data"
    }
   ],
   "source": [
    "init_guess_ising_graph=nx.complete_graph(reg2)\n",
    "nx.draw(init_guess_ising_graph,with_labels=True)\n",
    "print(\"edges->\",init_guess_ising_graph.edges)"
   ]
  },
  {
   "cell_type": "code",
   "execution_count": 21,
   "metadata": {},
   "outputs": [],
   "source": [
    "qgrnn_dev = qml.device(\"default.qubit\", wires=2 * qubit_number + 1) # 8 register qubits and 1 control qubit for swap test"
   ]
  },
  {
   "cell_type": "code",
   "execution_count": 22,
   "metadata": {},
   "outputs": [],
   "source": [
    "@qml.qnode(qgrnn_dev)\n",
    "def full_QGRNN_layer(edge_weights,node_weights,t):\n",
    "    '''\n",
    "    As mentioned in the website QGRNN consists of two register : 1. The actual set of input/output states from exp(-iHt)\n",
    "    and 2. Simulated set of input/output states and finally we have to minimize the fidelity\n",
    "    '''\n",
    "    \n",
    "    # The two input registers reg1 and reg2 will contain the same initial state i.e. the \"low-energy-state\".\n",
    "    qml.QubitStateVector(np.kron(low_energy_state,low_energy_state),wires=reg1+reg2)\n",
    "    \n",
    "    unitary_evolution(H,reg1,t) # exp(-iHt)|ψ(0)>\n",
    "    \n",
    "    trotter_steps=t/delta  # see this link : \n",
    "                           # https://en.wikipedia.org/wiki/Time-evolving_block_decimation#The_Suzuki-Trotter_expansion\n",
    "                           # smaller the value of delta in trotter formula -> more accurate will be the approximation\n",
    "                           # according to that formula trotter step is a function of time 'T' and 'delta'\n",
    "                \n",
    "    for depth in range(int(trotter_steps)):\n",
    "        QGRNN_layer(edge_weights,node_weights,init_guess_ising_graph,qubit_number,delta)\n",
    "    \n",
    "    # the wires are updated\n",
    "    # applying swap test to the last 8 qubits\n",
    "    Swap_test(control,reg1,reg2)\n",
    "    \n",
    "    return qml.expval(qml.PauliZ(control))"
   ]
  },
  {
   "cell_type": "code",
   "execution_count": 23,
   "metadata": {},
   "outputs": [
    {
     "data": {
      "text/plain": [
       "'\\n@qml.qnode(qgrnn_dev)\\ndef Swap_test1(edge_weights,node_weights,t):\\n    \\n    full_QGRNN_layer(edge_weights,node_weights,t)\\n    qml.Hadamard(wires=control)\\n    for wire1,wire2 in zip(reg1,reg2):\\n        qml.CSWAP(wires=(control,wire1,wire2))\\n    qml.Hadamard(wires=control)\\n    \\n    return qml.expval(qml.PauliZ(control))\\n    \\n'"
      ]
     },
     "execution_count": 23,
     "metadata": {},
     "output_type": "execute_result"
    }
   ],
   "source": [
    "'''\n",
    "@qml.qnode(qgrnn_dev)\n",
    "def Swap_test1(edge_weights,node_weights,t):\n",
    "    \n",
    "    full_QGRNN_layer(edge_weights,node_weights,t)\n",
    "    qml.Hadamard(wires=control)\n",
    "    for wire1,wire2 in zip(reg1,reg2):\n",
    "        qml.CSWAP(wires=(control,wire1,wire2))\n",
    "    qml.Hadamard(wires=control)\n",
    "    \n",
    "    return qml.expval(qml.PauliZ(control))\n",
    "    \n",
    "'''"
   ]
  },
  {
   "cell_type": "code",
   "execution_count": 24,
   "metadata": {},
   "outputs": [],
   "source": [
    "times_sampled = np.random.rand(15)"
   ]
  },
  {
   "cell_type": "code",
   "execution_count": 25,
   "metadata": {},
   "outputs": [
    {
     "data": {
      "text/plain": [
       "array([0.9623003 , 0.66587498, 0.63901611, 0.73221233, 0.4145642 ,\n",
       "       0.76687831, 0.54273758, 0.68810418, 0.70463878, 0.19791337,\n",
       "       0.7593822 , 0.4214516 , 0.4452915 , 0.56523669, 0.33884121])"
      ]
     },
     "execution_count": 25,
     "metadata": {},
     "output_type": "execute_result"
    }
   ],
   "source": [
    "times_sampled"
   ]
  },
  {
   "cell_type": "code",
   "execution_count": 26,
   "metadata": {},
   "outputs": [],
   "source": [
    "N = 15  # The number of pieces of quantum data that are used for each step\n",
    "max_time = .1  # The maximum value of time that can be used for quantum data"
   ]
  },
  {
   "cell_type": "code",
   "execution_count": 27,
   "metadata": {},
   "outputs": [],
   "source": [
    "#rng = np.random.default_rng(seed=42)\n",
    "\n",
    "def cost_function(weight_params, bias_params):\n",
    "\n",
    "    # Randomly samples times at which the QGRNN runs\n",
    "    times_sampled =np.random.rand(N)*max_time\n",
    "\n",
    "    # Cycles through each of the sampled times and calculates the cost\n",
    "    total_cost = 0\n",
    "    for dt in times_sampled:\n",
    "        result = full_QGRNN_layer(weight_params, bias_params,dt)\n",
    "        total_cost += -1 * result\n",
    "\n",
    "    return total_cost / N"
   ]
  },
  {
   "cell_type": "code",
   "execution_count": 28,
   "metadata": {},
   "outputs": [],
   "source": [
    "\n",
    "\n",
    "\n",
    "\n",
    "weights = (np.random.rand(len(init_guess_ising_graph.edges))-0.5)\n",
    "bias = (np.random.rand(qubit_number)-0.5)\n",
    "\n",
    "initial_weights = copy.copy(weights)\n",
    "initial_bias = copy.copy(bias)"
   ]
  },
  {
   "cell_type": "code",
   "execution_count": 42,
   "metadata": {},
   "outputs": [],
   "source": [
    "delta=0.01 # this delta should be choosen very carefully for better guess, check the ans for a dry run of the cost below"
   ]
  },
  {
   "cell_type": "code",
   "execution_count": 43,
   "metadata": {},
   "outputs": [
    {
     "data": {
      "text/plain": [
       "tensor(-0.99969658, requires_grad=True)"
      ]
     },
     "execution_count": 43,
     "metadata": {},
     "output_type": "execute_result"
    }
   ],
   "source": [
    "cost_function(weights, bias)"
   ]
  },
  {
   "cell_type": "code",
   "execution_count": 31,
   "metadata": {},
   "outputs": [],
   "source": [
    "costarr=[]\n",
    "params_edge=[]\n",
    "params_node=[]"
   ]
  },
  {
   "cell_type": "code",
   "execution_count": 32,
   "metadata": {},
   "outputs": [],
   "source": [
    "steps = 100"
   ]
  },
  {
   "cell_type": "code",
   "execution_count": 44,
   "metadata": {},
   "outputs": [
    {
     "name": "stdout",
     "output_type": "stream",
     "text": [
      "Cost at Step 0: -0.9997273324401199\n",
      "Cost at Step 10: -0.9997105551497351\n",
      "Cost at Step 20: -0.9997796340971948\n",
      "Cost at Step 30: -0.9998093657002154\n",
      "Cost at Step 40: -0.9998586247590843\n",
      "Cost at Step 50: -0.9998919972657355\n",
      "Cost at Step 60: -0.9999052100272562\n",
      "Cost at Step 70: -0.9998821696724984\n",
      "Cost at Step 80: -0.9999226426042157\n",
      "Cost at Step 90: -0.999954390465177\n",
      "Cost at Step 100: -0.9999420848087713\n"
     ]
    }
   ],
   "source": [
    "optimizer = qml.AdamOptimizer(stepsize=0.01)\n",
    "\n",
    "for i in range(0, steps+1):\n",
    "    (weights, bias), cost = optimizer.step_and_cost(cost_function, weights, bias)\n",
    "\n",
    "    # Prints the value of the cost function\n",
    "    if i % 10 == 0:\n",
    "        print(f\"Cost at Step {i}: {cost}\")\n",
    "        costarr.append(cost)\n",
    "        params_edge.append(weights)\n",
    "        params_node.append(bias)\n",
    "        #print(f\"Weights at Step {i}: {weights}\")\n",
    "        #print(f\"Bias at Step {i}: {bias}\")\n",
    "        #print(\"---------------------------------------------\")"
   ]
  },
  {
   "cell_type": "code",
   "execution_count": 34,
   "metadata": {},
   "outputs": [],
   "source": [
    "# above can be considered as best as the fidelity is above 0.99 for t~1"
   ]
  },
  {
   "cell_type": "code",
   "execution_count": 35,
   "metadata": {},
   "outputs": [],
   "source": [
    "weights_test=np.array([5.75810409e-01,  4.17373794e-02 , 1.33385607e+00  ,1.80469466e+00,\n",
    " -1.37560830e-03, -8.39439431e-01])\n",
    "bias_test=np.array([-1.34861394 ,-1.31269908 , 0.97854738, -1.05489467])"
   ]
  },
  {
   "cell_type": "code",
   "execution_count": 45,
   "metadata": {},
   "outputs": [
    {
     "data": {
      "image/png": "[encoded data removed]",
      "text/plain": [
       "<Figure size 864x864 with 3 Axes>"
      ]
     },
     "metadata": {
      "needs_background": "light"
     },
     "output_type": "display_data"
    }
   ],
   "source": [
    "new_ham_matrix = H_matrix(nx.complete_graph(qubit_number),  weights, bias,\n",
    "    qubit_number\n",
    ")\n",
    "\n",
    "init_ham = H_matrix(nx.complete_graph(qubit_number),  initial_weights, initial_bias,\n",
    "    qubit_number\n",
    ")\n",
    "\n",
    "fig, axes = plt.subplots(nrows=1, ncols=3, figsize=(12, 12))\n",
    "\n",
    "axes[0].matshow(H, vmin=-7, vmax=7, cmap=\"YlGn\")\n",
    "axes[0].set_title(\"Target\", y=1.13)\n",
    "\n",
    "axes[1].matshow(init_ham, vmin=-7, vmax=7, cmap=\"hot\")\n",
    "axes[1].set_title(\"Initial\", y=1.13)\n",
    "\n",
    "axes[2].matshow(new_ham_matrix, vmin=-7, vmax=7, cmap=\"YlGn\")\n",
    "axes[2].set_title(\"Learned\", y=1.13)\n",
    "\n",
    "plt.subplots_adjust(wspace=0.3, hspace=0.3)\n",
    "plt.show()"
   ]
  },
  {
   "cell_type": "code",
   "execution_count": 54,
   "metadata": {},
   "outputs": [
    {
     "data": {
      "text/plain": [
       "<matplotlib.colorbar.Colorbar at 0x2d5c40b04f0>"
      ]
     },
     "execution_count": 54,
     "metadata": {},
     "output_type": "execute_result"
    },
    {
     "data": {
      "image/png": "[encoded data removed]",
      "text/plain": [
       "<Figure size 1152x288 with 6 Axes>"
      ]
     },
     "metadata": {},
     "output_type": "display_data"
    }
   ],
   "source": [
    "fig, axes = plt.subplots(ncols=3, figsize=(16, 4))\n",
    "\n",
    "ax1, ax2 ,ax3 = axes\n",
    "\n",
    "im1 = ax1.matshow(H,cmap=\"YlGnBu\")\n",
    "ax1.set_title(\"Target\", y=1.13)\n",
    "\n",
    "im2 = ax2.matshow(new_ham_matrix,cmap=\"YlGnBu\")\n",
    "ax2.set_title(\"Learned\", y=1.13)\n",
    "\n",
    "diff_matrix= H-new_ham_matrix\n",
    "\n",
    "im3 = ax3.matshow(diff_matrix,cmap=\"YlGnBu\")\n",
    "ax3.set_title(\"Error\", y=1.13)\n",
    "\n",
    "\n",
    "fig.colorbar(im1, ax=ax1)\n",
    "fig.colorbar(im2, ax=ax2)\n",
    "fig.colorbar(im3, ax=ax3)"
   ]
  },
  {
   "cell_type": "code",
   "execution_count": 57,
   "metadata": {},
   "outputs": [
    {
     "data": {
      "image/png": "[encoded data removed]",
      "text/plain": [
       "<Figure size 576x396 with 2 Axes>"
      ]
     },
     "metadata": {},
     "output_type": "display_data"
    }
   ],
   "source": [
    "import seaborn\n",
    "seaborn.heatmap(new_ham_matrix,cmap=\"YlGnBu\")\n",
    "plt.title(\"Non-zero elements of learned hamiltonian as heat map\")\n",
    "plt.show()"
   ]
  },
  {
   "cell_type": "code",
   "execution_count": 46,
   "metadata": {},
   "outputs": [],
   "source": [
    "# Function to find the fidelity between two unitaries\n",
    "def Fidelity(rho1,rho2):\n",
    "    if rho1.shape!=rho2.shape:\n",
    "        raise ValueError(\"Dimension of both matrices must be same\")\n",
    "    return (np.abs(np.trace(np.dot(np.transpose(np.conj(rho1)),rho2)))/len(rho1))"
   ]
  },
  {
   "cell_type": "code",
   "execution_count": 49,
   "metadata": {},
   "outputs": [
    {
     "name": "stdout",
     "output_type": "stream",
     "text": [
      "Fidelity between the actual and the optimized evolution at time 0.1 is : 0.9943480106143281\n"
     ]
    }
   ],
   "source": [
    "t=0.1\n",
    "rho1=scipy.linalg.expm(-1j*new_ham_matrix*t)\n",
    "rho2=scipy.linalg.expm(-1j*H*t)\n",
    "print(\"Fidelity between the actual and the optimized evolution at time 0.1 is :\",Fidelity(rho2,(rho1)))"
   ]
  },
  {
   "cell_type": "code",
   "execution_count": 50,
   "metadata": {},
   "outputs": [
    {
     "name": "stdout",
     "output_type": "stream",
     "text": [
      "learned weights [ 0.01316567  0.19557344  1.23168377  1.72327075 -0.07206067 -0.71574858]\n",
      "target weights [0.56, 1.24, 1.67, -0.79]\n",
      "learned bias [-0.73727048 -0.94171785  1.00312359 -0.77524066]\n",
      "target bias [-1.44, -1.43, 1.18, -0.93]\n"
     ]
    }
   ],
   "source": [
    "print(\"learned weights\",weights)\n",
    "print(\"target weights\",target_weights)\n",
    "print(\"learned bias\",bias)\n",
    "print(\"target bias\",target_bias)"
   ]
  },
  {
   "cell_type": "code",
   "execution_count": 52,
   "metadata": {},
   "outputs": [
    {
     "data": {
      "image/png": "[encoded data removed]",
      "text/plain": [
       "<Figure size 576x396 with 1 Axes>"
      ]
     },
     "metadata": {},
     "output_type": "display_data"
    }
   ],
   "source": [
    "plt.style.use(\"seaborn\")\n",
    "plt.plot(np.linspace(0,100,22),costarr,\"black\",label=\"Cost\")\n",
    "plt.xlabel(\"cost value\")\n",
    "plt.ylabel(\"at step\")\n",
    "plt.title(\"cost optimization\")\n",
    "plt.legend()\n",
    "plt.show()"
   ]
  },
  {
   "cell_type": "code",
   "execution_count": null,
   "metadata": {},
   "outputs": [],
   "source": []
  }
 ],
 "metadata": {
  "kernelspec": {
   "display_name": "Python 3",
   "language": "python",
   "name": "python3"
  },
  "language_info": {
   "codemirror_mode": {
    "name": "ipython",
    "version": 3
   },
   "file_extension": ".py",
   "mimetype": "text/x-python",
   "name": "python",
   "nbconvert_exporter": "python",
   "pygments_lexer": "ipython3",
   "version": "3.8.5"
  }
 },
 "nbformat": 4,
 "nbformat_minor": 4
}
